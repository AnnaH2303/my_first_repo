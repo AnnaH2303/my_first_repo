{
 "cells": [
  {
   "cell_type": "markdown",
   "id": "38d53b4e",
   "metadata": {},
   "source": [
    "# Data Science Tools and Ecosystem"
   ]
  },
  {
   "cell_type": "markdown",
   "id": "510c2dc8",
   "metadata": {},
   "source": [
    "In this notebook, Data Science Tools and Ecosystem are summarized."
   ]
  },
  {
   "cell_type": "markdown",
   "id": "006535cf",
   "metadata": {},
   "source": [
    "**Objectives:**\n",
    "\n",
    "List popular languages for Data Science\n",
    "\n",
    "Some of the commonly used libraries used by Data Scientists\n",
    "\n",
    "Data Science Tools\n"
   ]
  },
  {
   "cell_type": "markdown",
   "id": "e29624d2",
   "metadata": {},
   "source": [
    "Some of the popular languages that Data Scientists use are:\n",
    "\n",
    "Python\n",
    "\n",
    "R\n",
    "\n",
    "Scala"
   ]
  },
  {
   "cell_type": "markdown",
   "id": "f94708e6",
   "metadata": {},
   "source": [
    "Some of the commonly used libraries used by Data Scientists include:\n",
    "\n",
    "Pandas\n",
    "\n",
    "Matplotlib\n",
    "\n",
    "NumPy\n",
    "\n",
    "SciPy\n",
    "\n",
    "Scikit-learn"
   ]
  },
  {
   "cell_type": "markdown",
   "id": "fab8da32",
   "metadata": {},
   "source": [
    "Data Science Tools:\n",
    "\n",
    "Hadoop\n",
    "\n",
    "Spark\n",
    "\n",
    "Jupyter Notebooks "
   ]
  },
  {
   "cell_type": "markdown",
   "id": "33c9bcd2",
   "metadata": {},
   "source": [
    "### Below are a few examples of evaluating arithmetic expressions in Python"
   ]
  },
  {
   "cell_type": "code",
   "execution_count": 6,
   "id": "dc4253b3",
   "metadata": {
    "ExecuteTime": {
     "end_time": "2024-11-14T07:47:15.620834Z",
     "start_time": "2024-11-14T07:47:15.610456Z"
    }
   },
   "outputs": [
    {
     "data": {
      "text/plain": [
       "17"
      ]
     },
     "execution_count": 6,
     "metadata": {},
     "output_type": "execute_result"
    }
   ],
   "source": [
    "# This a simple arithmetic expression to mutiply then add integers\n",
    "(3*4)+5"
   ]
  },
  {
   "cell_type": "code",
   "execution_count": 7,
   "id": "7dd51c86",
   "metadata": {
    "ExecuteTime": {
     "end_time": "2024-11-14T07:49:17.933529Z",
     "start_time": "2024-11-14T07:49:17.926414Z"
    }
   },
   "outputs": [
    {
     "data": {
      "text/plain": [
       "3.3333333333333335"
      ]
     },
     "execution_count": 7,
     "metadata": {},
     "output_type": "execute_result"
    }
   ],
   "source": [
    "# This will convert 200 minutes to hours by diving by 60\n",
    "200/60"
   ]
  },
  {
   "cell_type": "markdown",
   "id": "8047fc67",
   "metadata": {},
   "source": [
    "## Author\n",
    "Anna Haievska"
   ]
  },
  {
   "cell_type": "code",
   "execution_count": null,
   "id": "2e74301d",
   "metadata": {},
   "outputs": [],
   "source": []
  }
 ],
 "metadata": {
  "kernelspec": {
   "display_name": "Python 3 (ipykernel)",
   "language": "python",
   "name": "python3"
  },
  "language_info": {
   "codemirror_mode": {
    "name": "ipython",
    "version": 3
   },
   "file_extension": ".py",
   "mimetype": "text/x-python",
   "name": "python",
   "nbconvert_exporter": "python",
   "pygments_lexer": "ipython3",
   "version": "3.9.13"
  },
  "toc": {
   "base_numbering": 1,
   "nav_menu": {},
   "number_sections": true,
   "sideBar": true,
   "skip_h1_title": false,
   "title_cell": "Table of Contents",
   "title_sidebar": "Contents",
   "toc_cell": false,
   "toc_position": {},
   "toc_section_display": true,
   "toc_window_display": false
  }
 },
 "nbformat": 4,
 "nbformat_minor": 5
}
